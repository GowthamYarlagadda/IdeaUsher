{
 "cells": [
  {
   "attachments": {},
   "cell_type": "markdown",
   "metadata": {},
   "source": [
    "I didn't have linkedIn developer credentials. So, I didn't run these scripts but I did a custom run on the nlp model at the end of the notebook. I hope the below scripts work. As I you already know, I have taken the help of ChatGPT.\n"
   ]
  },
  {
   "cell_type": "code",
   "execution_count": 12,
   "metadata": {},
   "outputs": [],
   "source": [
    "import requests\n",
    "\n",
    "# Set up authentication\n",
    "client_id = '86xfs0awcxnnjc'\n",
    "client_secret = 'bKNhSScEcPgZV2JW'\n",
    "access_token_url = 'https://www.linkedin.com/oauth/v2/accessToken'\n",
    "\n",
    "# Obtain access token\n",
    "def get_access_token():\n",
    "    payload = {\n",
    "        'grant_type': 'client_credentials',\n",
    "        'client_id': client_id,\n",
    "        'client_secret': client_secret\n",
    "    }\n",
    "    response = requests.post(access_token_url, data=payload)\n",
    "    if response.status_code == 200:\n",
    "        return response.json().get('access_token')\n",
    "    else:\n",
    "        \n",
    "        return (\"AccessError\")\n",
    "\n",
    "access_token = get_access_token()\n"
   ]
  },
  {
   "cell_type": "code",
   "execution_count": 13,
   "metadata": {},
   "outputs": [],
   "source": [
    "# Fetch connections of a LinkedIn profile\n",
    "def get_connections(profile_id):\n",
    "    connections_url = f'https://api.linkedin.com/v2/people/{profile_id}/connections'\n",
    "\n",
    "    headers = {\n",
    "        'Authorization': f'Bearer {access_token}'\n",
    "    }\n",
    "\n",
    "    response = requests.get(connections_url, headers=headers)\n",
    "    if response.status_code == 200:\n",
    "        return response.json().get('elements')\n",
    "    else:\n",
    "        # Handle API request error\n",
    "        return (\"Handle API request error\")\n",
    "\n",
    "\n",
    "connections = get_connections('gowthamyarlagadda')\n"
   ]
  },
  {
   "cell_type": "code",
   "execution_count": null,
   "metadata": {},
   "outputs": [],
   "source": [
    "# Analyze connection's profile\n",
    "def analyze_profile(profile):\n",
    "    about_section = profile.get('about')\n",
    "    job_title = profile.get('headline')\n",
    "    recent_posts = profile.get('activity')\n",
    "\n",
    "for connection in connections:\n",
    "    profile = connection.get('profile')\n",
    "    analyze_profile(profile)\n"
   ]
  },
  {
   "cell_type": "code",
   "execution_count": null,
   "metadata": {},
   "outputs": [],
   "source": [
    "import spacy\n",
    "\n",
    "# Load the NLP model\n",
    "nlp = spacy.load('en_core_web_sm')\n",
    "\n",
    "# Function to generate a hyper-personalized connection request message\n",
    "def generate_message(profile):\n",
    "    # Extract relevant information from the profile\n",
    "    about = profile['about']\n",
    "    headline = profile['headline']\n",
    "    activity = profile['activity']\n",
    "\n",
    "    # Process the text using NLP techniques\n",
    "    doc = nlp(about + ' ' + headline + ' ' + activity)\n",
    "\n",
    "    # Extract key information using NLP algorithms\n",
    "    # Example: Extracting named entities\n",
    "    named_entities = [entity.text for entity in doc.ents]\n",
    "\n",
    "    # Generate the personalized message based on the extracted information\n",
    "    message = f\"Hello {profile['name']}, I noticed that you are interested in {', '.join(named_entities)}. I believe we have shared interests and can potentially collaborate. Let's connect!\"\n",
    "\n",
    "    return message\n"
   ]
  },
  {
   "cell_type": "code",
   "execution_count": null,
   "metadata": {},
   "outputs": [],
   "source": [
    "# Send connection request\n",
    "def send_connection_request(profile_id, message):\n",
    "    send_request_url = f'https://api.linkedin.com/v2/people/{profile_id}/relation-to-viewer/invite'\n",
    "\n",
    "    headers = {\n",
    "        'Authorization': f'Bearer {access_token}',\n",
    "        'Content-Type': 'application/json'\n",
    "    }\n",
    "\n",
    "    payload = {\n",
    "        'message': message\n",
    "    }\n",
    "\n",
    "    response = requests.post(send_request_url, headers=headers, json=payload)\n",
    "    if response.status_code == 201:\n",
    "        # Connection request sent successfully\n",
    "        print('Connection request sent successfully')\n",
    "      \n",
    "    else:\n",
    "        # Handle connection request error\n",
    "        print('Handle connection request error')\n",
    "\n",
    "# Example usage\n",
    "for connection in connections:\n",
    "    profile = connection.get('profile')\n",
    "    profile_id = profile.get('id')\n",
    "    message = generate_message(profile)\n",
    "    send_connection_request(profile_id, message)\n"
   ]
  },
  {
   "attachments": {},
   "cell_type": "markdown",
   "metadata": {},
   "source": []
  },
  {
   "attachments": {},
   "cell_type": "markdown",
   "metadata": {},
   "source": [
    "# Custom Run\n"
   ]
  },
  {
   "cell_type": "code",
   "execution_count": 15,
   "metadata": {},
   "outputs": [
    {
     "name": "stdout",
     "output_type": "stream",
     "text": [
      "A final Electronics and Communication Engineering undergraduate student at NITK Surathkal with interest in Computer Vision and deep learning. I am seeking a job to apply my knowledge taking the given company’s responsibilities in a challenging way and completing the tasks in time without compromising the quality to produce consummate work through amicable interpersonal relations and the right questions. Computer Vision Engineer \n"
     ]
    }
   ],
   "source": [
    "# Example structure of connections and profile objects\n",
    "connections = [\n",
    "    {\n",
    "        'profile': {\n",
    "            'name':'Gowtham Yarlagadda',\n",
    "            'about': 'A final Electronics and Communication Engineering undergraduate student at NITK Surathkal with interest in Computer Vision and deep learning. I am seeking a job to apply my knowledge taking the given company’s responsibilities in a challenging way and completing the tasks in time without compromising the quality to produce consummate work through amicable interpersonal relations and the right questions.',\n",
    "            'headline': 'Computer Vision Engineer',\n",
    "            'activity': ''\n",
    "        }\n",
    "    },\n",
    "    # Additional connection objects\n",
    "]\n",
    "\n",
    "# Analyze connection's profile\n",
    "def analyze_profile(profile):\n",
    "    about = profile.get('about')  # str or None\n",
    "    headline = profile.get('headline')  # str or None\n",
    "    activity = profile.get('activity')  # str or None\n",
    "    print(about,headline,activity)\n",
    "\n",
    "    # Perform NLP analysis on the extracted data\n",
    "\n",
    "# Example usage\n",
    "for connection in connections:\n",
    "    profile = connection.get('profile')  # dict\n",
    "    analyze_profile(profile)\n"
   ]
  },
  {
   "cell_type": "code",
   "execution_count": 16,
   "metadata": {},
   "outputs": [],
   "source": [
    "import spacy\n",
    "\n",
    "# Load the NLP model\n",
    "nlp = spacy.load('en_core_web_sm')\n",
    "\n",
    "# Function to generate a hyper-personalized connection request message\n",
    "def generate_message(profile):\n",
    "    # Extract relevant information from the profile\n",
    "    about = profile['about']\n",
    "    headline = profile['headline']\n",
    "    activity = profile['activity']\n",
    "\n",
    "    # Process the text using NLP techniques\n",
    "    doc = nlp(about + ' ' + headline + ' ' + activity)\n",
    "\n",
    "    # Extract key information using NLP algorithms\n",
    "    # Example: Extracting named entities\n",
    "    named_entities = [entity.text for entity in doc.ents]\n",
    "\n",
    "    # Generate the personalized message based on the extracted information\n",
    "    message = f\"Hello {profile['name']}, I noticed that you are interested in {', '.join(named_entities)}. I believe we have shared interests and can potentially collaborate. Let's connect!\"\n",
    "\n",
    "    return message\n"
   ]
  },
  {
   "cell_type": "code",
   "execution_count": 17,
   "metadata": {},
   "outputs": [
    {
     "name": "stdout",
     "output_type": "stream",
     "text": [
      "Hello Gowtham Yarlagadda, I noticed that you are interested in final Electronics and Communication Engineering, NITK Surathkal, Computer Vision, Computer Vision Engineer. I believe we have shared interests and can potentially collaborate. Let's connect!\n"
     ]
    }
   ],
   "source": [
    "print(generate_message(profile))"
   ]
  }
 ],
 "metadata": {
  "kernelspec": {
   "display_name": "Python 3",
   "language": "python",
   "name": "python3"
  },
  "language_info": {
   "codemirror_mode": {
    "name": "ipython",
    "version": 3
   },
   "file_extension": ".py",
   "mimetype": "text/x-python",
   "name": "python",
   "nbconvert_exporter": "python",
   "pygments_lexer": "ipython3",
   "version": "3.11.4"
  },
  "orig_nbformat": 4
 },
 "nbformat": 4,
 "nbformat_minor": 2
}
